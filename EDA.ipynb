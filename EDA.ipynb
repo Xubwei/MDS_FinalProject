{
 "cells": [
  {
   "cell_type": "code",
   "execution_count": 1,
   "metadata": {},
   "outputs": [],
   "source": [
    "import requests\n",
    "import pandas as pd"
   ]
  },
  {
   "cell_type": "code",
   "execution_count": 2,
   "metadata": {},
   "outputs": [],
   "source": [
    "url = 'https://tcgbusfs.blob.core.windows.net/dotapp/youbike/v2/youbike_immediate.json'"
   ]
  },
  {
   "cell_type": "code",
   "execution_count": 3,
   "metadata": {},
   "outputs": [
    {
     "name": "stdout",
     "output_type": "stream",
     "text": [
      "下載成功~\n"
     ]
    }
   ],
   "source": [
    "response = requests.get(url)\n",
    "if response.status_code == 200:\n",
    "    json=response.json()\n",
    "    print(\"下載成功~\")\n",
    "else:\n",
    "    print(\"下載失敗\")"
   ]
  },
  {
   "cell_type": "code",
   "execution_count": 4,
   "metadata": {},
   "outputs": [],
   "source": [
    "df = pd.DataFrame(json)"
   ]
  },
  {
   "cell_type": "code",
   "execution_count": 5,
   "metadata": {},
   "outputs": [],
   "source": [
    "selected_columns = df[[\"sno\", \"sna\", \"tot\", \"sbi\", \"sarea\", \"mday\", \"lat\", \"lng\", \"ar\", \"bemp\"]]\n",
    "renamed_df = selected_columns.rename(columns={\n",
    "    \"sno\": \"站點代號\",\n",
    "    \"sna\": \"場站中文名稱\",\n",
    "    \"tot\": \"場站總停車格\",\n",
    "    \"sbi\": \"場站目前車輛數量\",\n",
    "    \"sarea\": \"場站區域\",\n",
    "    \"mday\": \"資料更新時間\",\n",
    "    \"lat\": \"緯度\",\n",
    "    \"lng\": \"經度\",\n",
    "    \"ar\": \"地點\",\n",
    "    \"bemp\": \"空位數量\"\n",
    "})"
   ]
  },
  {
   "cell_type": "code",
   "execution_count": 6,
   "metadata": {},
   "outputs": [
    {
     "data": {
      "text/html": [
       "<div>\n",
       "<style scoped>\n",
       "    .dataframe tbody tr th:only-of-type {\n",
       "        vertical-align: middle;\n",
       "    }\n",
       "\n",
       "    .dataframe tbody tr th {\n",
       "        vertical-align: top;\n",
       "    }\n",
       "\n",
       "    .dataframe thead th {\n",
       "        text-align: right;\n",
       "    }\n",
       "</style>\n",
       "<table border=\"1\" class=\"dataframe\">\n",
       "  <thead>\n",
       "    <tr style=\"text-align: right;\">\n",
       "      <th></th>\n",
       "      <th>站點代號</th>\n",
       "      <th>場站中文名稱</th>\n",
       "      <th>場站總停車格</th>\n",
       "      <th>場站目前車輛數量</th>\n",
       "      <th>場站區域</th>\n",
       "      <th>資料更新時間</th>\n",
       "      <th>緯度</th>\n",
       "      <th>經度</th>\n",
       "      <th>地點</th>\n",
       "      <th>空位數量</th>\n",
       "    </tr>\n",
       "  </thead>\n",
       "  <tbody>\n",
       "    <tr>\n",
       "      <th>0</th>\n",
       "      <td>500101001</td>\n",
       "      <td>YouBike2.0_捷運科技大樓站</td>\n",
       "      <td>28</td>\n",
       "      <td>5</td>\n",
       "      <td>大安區</td>\n",
       "      <td>2023-10-28 16:13:05</td>\n",
       "      <td>25.02605</td>\n",
       "      <td>121.54360</td>\n",
       "      <td>復興南路二段235號前</td>\n",
       "      <td>23</td>\n",
       "    </tr>\n",
       "    <tr>\n",
       "      <th>1</th>\n",
       "      <td>500101002</td>\n",
       "      <td>YouBike2.0_復興南路二段273號前</td>\n",
       "      <td>21</td>\n",
       "      <td>4</td>\n",
       "      <td>大安區</td>\n",
       "      <td>2023-10-28 16:13:05</td>\n",
       "      <td>25.02565</td>\n",
       "      <td>121.54357</td>\n",
       "      <td>復興南路二段273號西側</td>\n",
       "      <td>17</td>\n",
       "    </tr>\n",
       "    <tr>\n",
       "      <th>2</th>\n",
       "      <td>500101003</td>\n",
       "      <td>YouBike2.0_國北教大實小東側門</td>\n",
       "      <td>16</td>\n",
       "      <td>2</td>\n",
       "      <td>大安區</td>\n",
       "      <td>2023-10-28 16:13:05</td>\n",
       "      <td>25.02429</td>\n",
       "      <td>121.54124</td>\n",
       "      <td>和平東路二段96巷7號</td>\n",
       "      <td>13</td>\n",
       "    </tr>\n",
       "    <tr>\n",
       "      <th>3</th>\n",
       "      <td>500101004</td>\n",
       "      <td>YouBike2.0_和平公園東側</td>\n",
       "      <td>11</td>\n",
       "      <td>1</td>\n",
       "      <td>大安區</td>\n",
       "      <td>2023-10-28 16:13:05</td>\n",
       "      <td>25.02351</td>\n",
       "      <td>121.54282</td>\n",
       "      <td>和平東路二段118巷33號</td>\n",
       "      <td>10</td>\n",
       "    </tr>\n",
       "    <tr>\n",
       "      <th>4</th>\n",
       "      <td>500101005</td>\n",
       "      <td>YouBike2.0_辛亥復興路口西北側</td>\n",
       "      <td>16</td>\n",
       "      <td>2</td>\n",
       "      <td>大安區</td>\n",
       "      <td>2023-10-28 16:13:05</td>\n",
       "      <td>25.02153</td>\n",
       "      <td>121.54299</td>\n",
       "      <td>復興南路二段368號</td>\n",
       "      <td>14</td>\n",
       "    </tr>\n",
       "  </tbody>\n",
       "</table>\n",
       "</div>"
      ],
      "text/plain": [
       "        站點代號                  場站中文名稱  場站總停車格  場站目前車輛數量 場站區域   \n",
       "0  500101001      YouBike2.0_捷運科技大樓站      28         5  大安區  \\\n",
       "1  500101002  YouBike2.0_復興南路二段273號前      21         4  大安區   \n",
       "2  500101003    YouBike2.0_國北教大實小東側門      16         2  大安區   \n",
       "3  500101004       YouBike2.0_和平公園東側      11         1  大安區   \n",
       "4  500101005    YouBike2.0_辛亥復興路口西北側      16         2  大安區   \n",
       "\n",
       "                資料更新時間        緯度         經度             地點  空位數量  \n",
       "0  2023-10-28 16:13:05  25.02605  121.54360    復興南路二段235號前    23  \n",
       "1  2023-10-28 16:13:05  25.02565  121.54357   復興南路二段273號西側    17  \n",
       "2  2023-10-28 16:13:05  25.02429  121.54124    和平東路二段96巷7號    13  \n",
       "3  2023-10-28 16:13:05  25.02351  121.54282  和平東路二段118巷33號    10  \n",
       "4  2023-10-28 16:13:05  25.02153  121.54299     復興南路二段368號    14  "
      ]
     },
     "execution_count": 6,
     "metadata": {},
     "output_type": "execute_result"
    }
   ],
   "source": [
    "renamed_df.head()"
   ]
  },
  {
   "cell_type": "code",
   "execution_count": 12,
   "metadata": {},
   "outputs": [
    {
     "data": {
      "text/plain": [
       "場站區域\n",
       "中山區       140\n",
       "中正區       112\n",
       "信義區       102\n",
       "內湖區       159\n",
       "北投區        84\n",
       "南港區        88\n",
       "士林區       117\n",
       "大同區        59\n",
       "大安區       170\n",
       "文山區        85\n",
       "松山區        81\n",
       "臺大公館校區     53\n",
       "萬華區        70\n",
       "Name: 場站總停車格, dtype: int64"
      ]
     },
     "execution_count": 12,
     "metadata": {},
     "output_type": "execute_result"
    }
   ],
   "source": [
    "df_district = renamed_df.groupby(by='場站區域')['場站總停車格'].count()\n",
    "df_district"
   ]
  },
  {
   "cell_type": "code",
   "execution_count": null,
   "metadata": {},
   "outputs": [],
   "source": []
  }
 ],
 "metadata": {
  "kernelspec": {
   "display_name": "base",
   "language": "python",
   "name": "python3"
  },
  "language_info": {
   "codemirror_mode": {
    "name": "ipython",
    "version": 3
   },
   "file_extension": ".py",
   "mimetype": "text/x-python",
   "name": "python",
   "nbconvert_exporter": "python",
   "pygments_lexer": "ipython3",
   "version": "3.10.9"
  }
 },
 "nbformat": 4,
 "nbformat_minor": 2
}
