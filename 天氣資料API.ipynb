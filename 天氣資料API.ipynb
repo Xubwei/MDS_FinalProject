{
 "cells": [
  {
   "cell_type": "code",
   "execution_count": 1,
   "metadata": {},
   "outputs": [],
   "source": [
    "import requests\n",
    "import time\n",
    "import pandas as pd"
   ]
  },
  {
   "cell_type": "code",
   "execution_count": 3,
   "metadata": {},
   "outputs": [
    {
     "name": "stdout",
     "output_type": "stream",
     "text": [
      "   StationName StationId           ObsTime.DateTime  \\\n",
      "28          臺北    466920  2023-12-11T23:40:00+08:00   \n",
      "\n",
      "                                  GeoInfo.Coordinates GeoInfo.StationAltitude  \\\n",
      "28  [{'CoordinateName': 'TWD67', 'CoordinateFormat...                     6.3   \n",
      "\n",
      "   GeoInfo.CountyName GeoInfo.TownName GeoInfo.CountyCode GeoInfo.TownCode  \\\n",
      "28                臺北市              中正區              63000         63000050   \n",
      "\n",
      "   WeatherElement.Weather  ... WeatherElement.Max10MinAverage.WindSpeed  \\\n",
      "28                      陰  ...                                      1.5   \n",
      "\n",
      "    WeatherElement.Max10MinAverage.Occurred_at.WindDirection  \\\n",
      "28                                              170.0          \n",
      "\n",
      "    WeatherElement.Max10MinAverage.Occurred_at.DateTime  \\\n",
      "28                          2023-12-11T22:40:00+08:00     \n",
      "\n",
      "    WeatherElement.GustInfo.PeakGustSpeed  \\\n",
      "28                                    2.9   \n",
      "\n",
      "    WeatherElement.GustInfo.Occurred_at.WindDirection  \\\n",
      "28                                              120.0   \n",
      "\n",
      "    WeatherElement.GustInfo.Occurred_at.DateTime  \\\n",
      "28                     2023-12-11T22:58:00+08:00   \n",
      "\n",
      "    WeatherElement.DailyExtreme.DailyHigh.TemperatureInfo.AirTemperature  \\\n",
      "28                                               30.2                      \n",
      "\n",
      "    WeatherElement.DailyExtreme.DailyHigh.TemperatureInfo.Occurred_at.DateTime  \\\n",
      "28                          2023-12-11T13:38:00+08:00                            \n",
      "\n",
      "    WeatherElement.DailyExtreme.DailyLow.TemperatureInfo.AirTemperature  \\\n",
      "28                                               21.7                     \n",
      "\n",
      "    WeatherElement.DailyExtreme.DailyLow.TemperatureInfo.Occurred_at.DateTime  \n",
      "28                          2023-12-11T03:58:00+08:00                          \n",
      "\n",
      "[1 rows x 29 columns]\n",
      "Index(['StationName', 'StationId', 'ObsTime.DateTime', 'GeoInfo.Coordinates',\n",
      "       'GeoInfo.StationAltitude', 'GeoInfo.CountyName', 'GeoInfo.TownName',\n",
      "       'GeoInfo.CountyCode', 'GeoInfo.TownCode', 'WeatherElement.Weather',\n",
      "       'WeatherElement.VisibilityDescription',\n",
      "       'WeatherElement.SunshineDuration', 'WeatherElement.Now.Precipitation',\n",
      "       'WeatherElement.WindDirection', 'WeatherElement.WindSpeed',\n",
      "       'WeatherElement.AirTemperature', 'WeatherElement.RelativeHumidity',\n",
      "       'WeatherElement.AirPressure', 'WeatherElement.UVIndex',\n",
      "       'WeatherElement.Max10MinAverage.WindSpeed',\n",
      "       'WeatherElement.Max10MinAverage.Occurred_at.WindDirection',\n",
      "       'WeatherElement.Max10MinAverage.Occurred_at.DateTime',\n",
      "       'WeatherElement.GustInfo.PeakGustSpeed',\n",
      "       'WeatherElement.GustInfo.Occurred_at.WindDirection',\n",
      "       'WeatherElement.GustInfo.Occurred_at.DateTime',\n",
      "       'WeatherElement.DailyExtreme.DailyHigh.TemperatureInfo.AirTemperature',\n",
      "       'WeatherElement.DailyExtreme.DailyHigh.TemperatureInfo.Occurred_at.DateTime',\n",
      "       'WeatherElement.DailyExtreme.DailyLow.TemperatureInfo.AirTemperature',\n",
      "       'WeatherElement.DailyExtreme.DailyLow.TemperatureInfo.Occurred_at.DateTime'],\n",
      "      dtype='object')\n"
     ]
    }
   ],
   "source": [
    "authorization = \"CWA-DDA504BD-A303-4F00-AE7D-AFE3723596BC\"\n",
    "url = \"https://opendata.cwa.gov.tw/api/v1/rest/datastore/O-A0003-001?Authorization=CWA-DDA504BD-A303-4F00-AE7D-AFE3723596BC\"\n",
    "\n",
    "all_taipei_data = pd.DataFrame()\n",
    "\n",
    "while True:\n",
    "    res = requests.get(url, headers={\"Authorization\": authorization})\n",
    "    resJson = res.json()\n",
    "    station_data = resJson['records']\n",
    "    df = pd.json_normalize(station_data['Station'])\n",
    "    \n",
    "    # 條件：只處理 StationName 為 '臺北' 的資料\n",
    "    taipei_data = df[df['StationName'] == '臺北']\n",
    "    print(taipei_data)\n",
    "    print('columns', taipei_data.columns)\n",
    "    # taipei_data.to_csv('taipei_data.csv', index=False) # 不確定是否需要每次都output一個csv\n",
    "    all_taipei_data = pd.concat([all_taipei_data, taipei_data])\n",
    "    \n",
    "    # 資料更新頻率10分鐘\n",
    "    time.sleep(600)"
   ]
  }
 ],
 "metadata": {
  "kernelspec": {
   "display_name": "Python 3",
   "language": "python",
   "name": "python3"
  },
  "language_info": {
   "codemirror_mode": {
    "name": "ipython",
    "version": 3
   },
   "file_extension": ".py",
   "mimetype": "text/x-python",
   "name": "python",
   "nbconvert_exporter": "python",
   "pygments_lexer": "ipython3",
   "version": "3.8.5"
  }
 },
 "nbformat": 4,
 "nbformat_minor": 2
}
