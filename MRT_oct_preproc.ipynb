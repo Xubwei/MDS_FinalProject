{
 "cells": [
  {
   "cell_type": "code",
   "execution_count": 73,
   "id": "9966d5ed-2857-4d09-a0af-0b70515399df",
   "metadata": {
    "tags": []
   },
   "outputs": [],
   "source": [
    "import pandas as pd\n",
    "import math\n",
    "import os\n",
    "import matplotlib.pyplot as plt"
   ]
  },
  {
   "cell_type": "code",
   "execution_count": 74,
   "id": "6b7b619b-38c3-4b54-b7a1-9bd88bb26d37",
   "metadata": {
    "tags": []
   },
   "outputs": [],
   "source": [
    "df = pd.read_csv(f'{os.getcwd()}/臺北捷運每日分時各站OD流量統計資料_202310.csv')"
   ]
  },
  {
   "cell_type": "code",
   "execution_count": 75,
   "id": "e44948d1-b2ff-4faf-9933-c4dcee3ede64",
   "metadata": {
    "tags": []
   },
   "outputs": [
    {
     "data": {
      "text/html": [
       "<div>\n",
       "<style scoped>\n",
       "    .dataframe tbody tr th:only-of-type {\n",
       "        vertical-align: middle;\n",
       "    }\n",
       "\n",
       "    .dataframe tbody tr th {\n",
       "        vertical-align: top;\n",
       "    }\n",
       "\n",
       "    .dataframe thead th {\n",
       "        text-align: right;\n",
       "    }\n",
       "</style>\n",
       "<table border=\"1\" class=\"dataframe\">\n",
       "  <thead>\n",
       "    <tr style=\"text-align: right;\">\n",
       "      <th></th>\n",
       "      <th>日期</th>\n",
       "      <th>時段</th>\n",
       "      <th>進站</th>\n",
       "      <th>出站</th>\n",
       "      <th>人次</th>\n",
       "    </tr>\n",
       "  </thead>\n",
       "  <tbody>\n",
       "    <tr>\n",
       "      <th>0</th>\n",
       "      <td>2023-10-01</td>\n",
       "      <td>0</td>\n",
       "      <td>松山機場</td>\n",
       "      <td>松山機場</td>\n",
       "      <td>0</td>\n",
       "    </tr>\n",
       "    <tr>\n",
       "      <th>1</th>\n",
       "      <td>2023-10-01</td>\n",
       "      <td>0</td>\n",
       "      <td>松山機場</td>\n",
       "      <td>中山國中</td>\n",
       "      <td>0</td>\n",
       "    </tr>\n",
       "    <tr>\n",
       "      <th>2</th>\n",
       "      <td>2023-10-01</td>\n",
       "      <td>0</td>\n",
       "      <td>松山機場</td>\n",
       "      <td>南京復興</td>\n",
       "      <td>0</td>\n",
       "    </tr>\n",
       "  </tbody>\n",
       "</table>\n",
       "</div>"
      ],
      "text/plain": [
       "           日期  時段    進站    出站  人次\n",
       "0  2023-10-01   0  松山機場  松山機場   0\n",
       "1  2023-10-01   0  松山機場  中山國中   0\n",
       "2  2023-10-01   0  松山機場  南京復興   0"
      ]
     },
     "execution_count": 75,
     "metadata": {},
     "output_type": "execute_result"
    }
   ],
   "source": [
    "df.head(3)"
   ]
  },
  {
   "cell_type": "code",
   "execution_count": 76,
   "id": "37d34ccb-e518-4383-9581-75a06cd7cc41",
   "metadata": {
    "tags": []
   },
   "outputs": [],
   "source": [
    "gongguan_entry = df[df['進站']=='公館']\n",
    "gongguan_left = df[df['出站']=='公館']"
   ]
  },
  {
   "cell_type": "code",
   "execution_count": 77,
   "metadata": {},
   "outputs": [],
   "source": [
    "def resampledata(data):\n",
    "    grouped_data = data.groupby(['時段', '日期']).agg({'人次': 'sum'}).reset_index()\n",
    "    grouped_data = grouped_data.sort_values(by=['日期', '時段'])\n",
    "    grouped_data['日期時段'] = pd.to_datetime(grouped_data['日期'] + ' ' + grouped_data['時段'].astype(str) + ':00:00')\n",
    "    grouped_data = grouped_data.drop(columns=['時段', '日期'])\n",
    "\n",
    "    grouped_data.set_index('日期時段', inplace=True)\n",
    "    grouped_data = grouped_data.rename_axis(None)\n",
    "    resample_data = grouped_data.resample('10T').mean().shift(-5)\n",
    "\n",
    "    resample_data['人次'] = resample_data['人次'].ffill()\n",
    "    resample_data['人次'] = resample_data['人次'].astype(float)\n",
    "\n",
    "    resample_data.iloc[0]['人次'] = grouped_data.iloc[0]['人次']\n",
    "    resample_data['人次'] = resample_data['人次'].apply(lambda x: round(x / 6))\n",
    "\n",
    "    return resample_data"
   ]
  },
  {
   "cell_type": "code",
   "execution_count": 78,
   "metadata": {},
   "outputs": [
    {
     "data": {
      "text/html": [
       "<div>\n",
       "<style scoped>\n",
       "    .dataframe tbody tr th:only-of-type {\n",
       "        vertical-align: middle;\n",
       "    }\n",
       "\n",
       "    .dataframe tbody tr th {\n",
       "        vertical-align: top;\n",
       "    }\n",
       "\n",
       "    .dataframe thead th {\n",
       "        text-align: right;\n",
       "    }\n",
       "</style>\n",
       "<table border=\"1\" class=\"dataframe\">\n",
       "  <thead>\n",
       "    <tr style=\"text-align: right;\">\n",
       "      <th></th>\n",
       "      <th>進站人次</th>\n",
       "    </tr>\n",
       "  </thead>\n",
       "  <tbody>\n",
       "    <tr>\n",
       "      <th>2023-10-01 00:00:00</th>\n",
       "      <td>25</td>\n",
       "    </tr>\n",
       "    <tr>\n",
       "      <th>2023-10-01 00:10:00</th>\n",
       "      <td>1</td>\n",
       "    </tr>\n",
       "    <tr>\n",
       "      <th>2023-10-01 00:20:00</th>\n",
       "      <td>1</td>\n",
       "    </tr>\n",
       "    <tr>\n",
       "      <th>2023-10-01 00:30:00</th>\n",
       "      <td>1</td>\n",
       "    </tr>\n",
       "    <tr>\n",
       "      <th>2023-10-01 00:40:00</th>\n",
       "      <td>1</td>\n",
       "    </tr>\n",
       "    <tr>\n",
       "      <th>...</th>\n",
       "      <td>...</td>\n",
       "    </tr>\n",
       "    <tr>\n",
       "      <th>2023-10-31 22:20:00</th>\n",
       "      <td>128</td>\n",
       "    </tr>\n",
       "    <tr>\n",
       "      <th>2023-10-31 22:30:00</th>\n",
       "      <td>128</td>\n",
       "    </tr>\n",
       "    <tr>\n",
       "      <th>2023-10-31 22:40:00</th>\n",
       "      <td>128</td>\n",
       "    </tr>\n",
       "    <tr>\n",
       "      <th>2023-10-31 22:50:00</th>\n",
       "      <td>128</td>\n",
       "    </tr>\n",
       "    <tr>\n",
       "      <th>2023-10-31 23:00:00</th>\n",
       "      <td>128</td>\n",
       "    </tr>\n",
       "  </tbody>\n",
       "</table>\n",
       "<p>4459 rows × 1 columns</p>\n",
       "</div>"
      ],
      "text/plain": [
       "                     進站人次\n",
       "2023-10-01 00:00:00    25\n",
       "2023-10-01 00:10:00     1\n",
       "2023-10-01 00:20:00     1\n",
       "2023-10-01 00:30:00     1\n",
       "2023-10-01 00:40:00     1\n",
       "...                   ...\n",
       "2023-10-31 22:20:00   128\n",
       "2023-10-31 22:30:00   128\n",
       "2023-10-31 22:40:00   128\n",
       "2023-10-31 22:50:00   128\n",
       "2023-10-31 23:00:00   128\n",
       "\n",
       "[4459 rows x 1 columns]"
      ]
     },
     "execution_count": 78,
     "metadata": {},
     "output_type": "execute_result"
    }
   ],
   "source": [
    "resample_entry = resampledata(gongguan_entry)\n",
    "resample_entry = resample_entry.rename(columns={'人次': '進站人次'})\n",
    "resample_entry"
   ]
  },
  {
   "cell_type": "code",
   "execution_count": 79,
   "metadata": {},
   "outputs": [
    {
     "data": {
      "text/html": [
       "<div>\n",
       "<style scoped>\n",
       "    .dataframe tbody tr th:only-of-type {\n",
       "        vertical-align: middle;\n",
       "    }\n",
       "\n",
       "    .dataframe tbody tr th {\n",
       "        vertical-align: top;\n",
       "    }\n",
       "\n",
       "    .dataframe thead th {\n",
       "        text-align: right;\n",
       "    }\n",
       "</style>\n",
       "<table border=\"1\" class=\"dataframe\">\n",
       "  <thead>\n",
       "    <tr style=\"text-align: right;\">\n",
       "      <th></th>\n",
       "      <th>出站人次</th>\n",
       "    </tr>\n",
       "  </thead>\n",
       "  <tbody>\n",
       "    <tr>\n",
       "      <th>2023-10-01 00:00:00</th>\n",
       "      <td>49</td>\n",
       "    </tr>\n",
       "    <tr>\n",
       "      <th>2023-10-01 00:10:00</th>\n",
       "      <td>0</td>\n",
       "    </tr>\n",
       "    <tr>\n",
       "      <th>2023-10-01 00:20:00</th>\n",
       "      <td>0</td>\n",
       "    </tr>\n",
       "    <tr>\n",
       "      <th>2023-10-01 00:30:00</th>\n",
       "      <td>0</td>\n",
       "    </tr>\n",
       "    <tr>\n",
       "      <th>2023-10-01 00:40:00</th>\n",
       "      <td>0</td>\n",
       "    </tr>\n",
       "    <tr>\n",
       "      <th>...</th>\n",
       "      <td>...</td>\n",
       "    </tr>\n",
       "    <tr>\n",
       "      <th>2023-10-31 22:20:00</th>\n",
       "      <td>50</td>\n",
       "    </tr>\n",
       "    <tr>\n",
       "      <th>2023-10-31 22:30:00</th>\n",
       "      <td>50</td>\n",
       "    </tr>\n",
       "    <tr>\n",
       "      <th>2023-10-31 22:40:00</th>\n",
       "      <td>50</td>\n",
       "    </tr>\n",
       "    <tr>\n",
       "      <th>2023-10-31 22:50:00</th>\n",
       "      <td>50</td>\n",
       "    </tr>\n",
       "    <tr>\n",
       "      <th>2023-10-31 23:00:00</th>\n",
       "      <td>50</td>\n",
       "    </tr>\n",
       "  </tbody>\n",
       "</table>\n",
       "<p>4459 rows × 1 columns</p>\n",
       "</div>"
      ],
      "text/plain": [
       "                     出站人次\n",
       "2023-10-01 00:00:00    49\n",
       "2023-10-01 00:10:00     0\n",
       "2023-10-01 00:20:00     0\n",
       "2023-10-01 00:30:00     0\n",
       "2023-10-01 00:40:00     0\n",
       "...                   ...\n",
       "2023-10-31 22:20:00    50\n",
       "2023-10-31 22:30:00    50\n",
       "2023-10-31 22:40:00    50\n",
       "2023-10-31 22:50:00    50\n",
       "2023-10-31 23:00:00    50\n",
       "\n",
       "[4459 rows x 1 columns]"
      ]
     },
     "execution_count": 79,
     "metadata": {},
     "output_type": "execute_result"
    }
   ],
   "source": [
    "resample_left = resampledata(gongguan_left)\n",
    "resample_left = resample_left.rename(columns={'人次': '出站人次'})\n",
    "resample_left"
   ]
  },
  {
   "cell_type": "code",
   "execution_count": 80,
   "metadata": {},
   "outputs": [
    {
     "data": {
      "text/html": [
       "<div>\n",
       "<style scoped>\n",
       "    .dataframe tbody tr th:only-of-type {\n",
       "        vertical-align: middle;\n",
       "    }\n",
       "\n",
       "    .dataframe tbody tr th {\n",
       "        vertical-align: top;\n",
       "    }\n",
       "\n",
       "    .dataframe thead th {\n",
       "        text-align: right;\n",
       "    }\n",
       "</style>\n",
       "<table border=\"1\" class=\"dataframe\">\n",
       "  <thead>\n",
       "    <tr style=\"text-align: right;\">\n",
       "      <th></th>\n",
       "      <th>出站人次</th>\n",
       "    </tr>\n",
       "  </thead>\n",
       "  <tbody>\n",
       "    <tr>\n",
       "      <th>2023-10-01 00:00:00</th>\n",
       "      <td>49</td>\n",
       "    </tr>\n",
       "    <tr>\n",
       "      <th>2023-10-01 00:10:00</th>\n",
       "      <td>0</td>\n",
       "    </tr>\n",
       "    <tr>\n",
       "      <th>2023-10-01 00:20:00</th>\n",
       "      <td>0</td>\n",
       "    </tr>\n",
       "    <tr>\n",
       "      <th>2023-10-01 00:30:00</th>\n",
       "      <td>0</td>\n",
       "    </tr>\n",
       "    <tr>\n",
       "      <th>2023-10-01 00:40:00</th>\n",
       "      <td>0</td>\n",
       "    </tr>\n",
       "    <tr>\n",
       "      <th>...</th>\n",
       "      <td>...</td>\n",
       "    </tr>\n",
       "    <tr>\n",
       "      <th>2023-10-31 22:20:00</th>\n",
       "      <td>50</td>\n",
       "    </tr>\n",
       "    <tr>\n",
       "      <th>2023-10-31 22:30:00</th>\n",
       "      <td>50</td>\n",
       "    </tr>\n",
       "    <tr>\n",
       "      <th>2023-10-31 22:40:00</th>\n",
       "      <td>50</td>\n",
       "    </tr>\n",
       "    <tr>\n",
       "      <th>2023-10-31 22:50:00</th>\n",
       "      <td>50</td>\n",
       "    </tr>\n",
       "    <tr>\n",
       "      <th>2023-10-31 23:00:00</th>\n",
       "      <td>50</td>\n",
       "    </tr>\n",
       "  </tbody>\n",
       "</table>\n",
       "<p>4459 rows × 1 columns</p>\n",
       "</div>"
      ],
      "text/plain": [
       "                     出站人次\n",
       "2023-10-01 00:00:00    49\n",
       "2023-10-01 00:10:00     0\n",
       "2023-10-01 00:20:00     0\n",
       "2023-10-01 00:30:00     0\n",
       "2023-10-01 00:40:00     0\n",
       "...                   ...\n",
       "2023-10-31 22:20:00    50\n",
       "2023-10-31 22:30:00    50\n",
       "2023-10-31 22:40:00    50\n",
       "2023-10-31 22:50:00    50\n",
       "2023-10-31 23:00:00    50\n",
       "\n",
       "[4459 rows x 1 columns]"
      ]
     },
     "execution_count": 80,
     "metadata": {},
     "output_type": "execute_result"
    }
   ],
   "source": [
    "resample_left = resampledata(gongguan_left)\n",
    "resample_left = resample_left.rename(columns={'人次': '出站人次'})\n",
    "resample_left"
   ]
  },
  {
   "cell_type": "code",
   "execution_count": 81,
   "metadata": {},
   "outputs": [],
   "source": [
    "merged_df = pd.merge(resample_entry, resample_left, left_index=True, right_index=True, how='inner')\n",
    "merged_df.to_csv('MRT_data.csv')"
   ]
  },
  {
   "cell_type": "markdown",
   "metadata": {},
   "source": [
    "# Oct-01 Preprocced data visualization"
   ]
  },
  {
   "cell_type": "code",
   "execution_count": 82,
   "metadata": {},
   "outputs": [],
   "source": [
    "merged_oct01 = merged_df['2023-10-01':'2023-10-01']\n",
    "merged_oct01_entry  = merged_oct01['進站人次']\n",
    "merged_oct01_left  = merged_oct01['出站人次']"
   ]
  },
  {
   "cell_type": "code",
   "execution_count": 83,
   "metadata": {},
   "outputs": [
    {
     "data": {
      "text/plain": [
       "2023-10-01 00:00:00    25\n",
       "2023-10-01 00:10:00     1\n",
       "2023-10-01 00:20:00     1\n",
       "2023-10-01 00:30:00     1\n",
       "2023-10-01 00:40:00     1\n",
       "                       ..\n",
       "2023-10-01 23:10:00    42\n",
       "2023-10-01 23:20:00    42\n",
       "2023-10-01 23:30:00    42\n",
       "2023-10-01 23:40:00    42\n",
       "2023-10-01 23:50:00    42\n",
       "Freq: 10T, Name: 進站人次, Length: 144, dtype: int64"
      ]
     },
     "execution_count": 83,
     "metadata": {},
     "output_type": "execute_result"
    }
   ],
   "source": [
    "merged_oct01_entry"
   ]
  },
  {
   "cell_type": "code",
   "execution_count": 84,
   "metadata": {},
   "outputs": [
    {
     "data": {
      "image/png": "[encoded data removed]",
      "text/plain": [
       "<Figure size 1200x400 with 2 Axes>"
      ]
     },
     "metadata": {},
     "output_type": "display_data"
    }
   ],
   "source": [
    "import matplotlib.pyplot as plt\n",
    "\n",
    "hours = merged_oct01_entry.index.strftime('%H')\n",
    "\n",
    "fig, axes = plt.subplots(nrows=1, ncols=2, figsize=(12, 4))\n",
    "\n",
    "axes[0].plot(hours, merged_oct01_entry, label='Gongguan Entry')\n",
    "axes[0].set_title('Gongguan Entry')\n",
    "axes[0].set_xlabel('Hours')\n",
    "axes[0].set_ylabel('Number of entry people')\n",
    "axes[0].legend()\n",
    "\n",
    "axes[1].plot(hours, merged_oct01_left, label='Gongguan Left')\n",
    "axes[1].set_title('Gongguan Left')\n",
    "axes[1].set_xlabel('Hours')\n",
    "axes[1].set_ylabel('Number of entry people')\n",
    "axes[1].legend()\n",
    "\n",
    "plt.tight_layout()\n",
    "plt.show()\n"
   ]
  },
  {
   "cell_type": "markdown",
   "metadata": {},
   "source": [
    "# Oct-01 Raw data visualization"
   ]
  },
  {
   "cell_type": "code",
   "execution_count": 85,
   "id": "4629bfcd-f942-4311-969c-6e24a267be0e",
   "metadata": {
    "tags": []
   },
   "outputs": [],
   "source": [
    "oct01_entry = gongguan_entry[gongguan_entry['日期']=='2023-10-01']\n",
    "oct01_left = gongguan_left[gongguan_left['日期']=='2023-10-01']"
   ]
  },
  {
   "cell_type": "code",
   "execution_count": 86,
   "id": "cc19ef59-b0f1-45f6-af30-b607d1df25d6",
   "metadata": {
    "tags": []
   },
   "outputs": [],
   "source": [
    "daily_res_ent = oct01_entry['人次'].groupby(oct01_entry['時段']).sum()\n",
    "daily_res_ent = pd.DataFrame(daily_res_ent)\n",
    "daily_res_left = oct01_left['人次'].groupby(oct01_left['時段']).sum()\n",
    "daily_res_left = pd.DataFrame(daily_res_left)"
   ]
  },
  {
   "cell_type": "code",
   "execution_count": 87,
   "metadata": {},
   "outputs": [
    {
     "data": {
      "image/png": "[encoded data removed]",
      "text/plain": [
       "<Figure size 1200x400 with 2 Axes>"
      ]
     },
     "metadata": {},
     "output_type": "display_data"
    }
   ],
   "source": [
    "fig, axes = plt.subplots(nrows=1, ncols=2, figsize=(12, 4))\n",
    "\n",
    "axes[0].plot(daily_res_ent.index, daily_res_ent['人次'])\n",
    "axes[0].set_title('Gongguan Entry')\n",
    "axes[0].set_xlabel('Hours')\n",
    "axes[0].set_ylabel('Number of entry people')\n",
    "\n",
    "axes[1].plot(daily_res_left.index, daily_res_left['人次'])\n",
    "axes[1].set_title('Gongguan Left')\n",
    "axes[1].set_xlabel('Hours')\n",
    "axes[1].set_ylabel('Number of left people')\n",
    "\n",
    "plt.tight_layout()\n",
    "plt.show()\n"
   ]
  }
 ],
 "metadata": {
  "kernelspec": {
   "display_name": "Python 3 (ipykernel)",
   "language": "python",
   "name": "python3"
  },
  "language_info": {
   "codemirror_mode": {
    "name": "ipython",
    "version": 3
   },
   "file_extension": ".py",
   "mimetype": "text/x-python",
   "name": "python",
   "nbconvert_exporter": "python",
   "pygments_lexer": "ipython3",
   "version": "3.11.5"
  }
 },
 "nbformat": 4,
 "nbformat_minor": 5
}
