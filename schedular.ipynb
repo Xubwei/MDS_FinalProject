{
 "cells": [
  {
   "cell_type": "code",
   "execution_count": 2,
   "metadata": {},
   "outputs": [],
   "source": [
    "import requests\n",
    "import json\n",
    "import schedule\n",
    "import time\n",
    "from datetime import datetime\n",
    "import os\n",
    "import pandas as pd"
   ]
  },
  {
   "cell_type": "code",
   "execution_count": 3,
   "metadata": {},
   "outputs": [
    {
     "name": "stdout",
     "output_type": "stream",
     "text": [
      "Data saved at 2023-10-28-20-00\n",
      "Data saved at 2023-10-28-20-01\n",
      "Data saved at 2023-10-28-20-02\n",
      "Data saved at 2023-10-28-20-03\n",
      "Data saved at 2023-10-28-20-04\n",
      "Data saved at 2023-10-28-20-05\n",
      "Data saved at 2023-10-28-20-06\n",
      "Data saved at 2023-10-28-20-07\n",
      "Data saved at 2023-10-28-20-08\n",
      "Data saved at 2023-10-28-20-09\n",
      "Data saved at 2023-10-28-20-10\n",
      "Data saved at 2023-10-28-20-11\n",
      "Data saved at 2023-10-28-20-12\n",
      "Data saved at 2023-10-28-20-13\n",
      "Data saved at 2023-10-28-20-14\n",
      "Data saved at 2023-10-28-20-16\n",
      "Data saved at 2023-10-28-20-17\n",
      "Data saved at 2023-10-28-20-18\n",
      "Data saved at 2023-10-28-20-19\n",
      "Data saved at 2023-10-28-20-20\n"
     ]
    },
    {
     "ename": "KeyboardInterrupt",
     "evalue": "",
     "output_type": "error",
     "traceback": [
      "\u001b[1;31m---------------------------------------------------------------------------\u001b[0m",
      "\u001b[1;31mKeyboardInterrupt\u001b[0m                         Traceback (most recent call last)",
      "\u001b[1;32mc:\\Users\\saman\\OneDrive\\桌面\\MDS_final\\MDS_FinalProject\\schedular.ipynb Cell 2\u001b[0m line \u001b[0;36m2\n\u001b[0;32m     <a href='vscode-notebook-cell:/c%3A/Users/saman/OneDrive/%E6%A1%8C%E9%9D%A2/MDS_final/MDS_FinalProject/schedular.ipynb#W1sZmlsZQ%3D%3D?line=25'>26</a>\u001b[0m \u001b[39mwhile\u001b[39;00m \u001b[39mTrue\u001b[39;00m:\n\u001b[0;32m     <a href='vscode-notebook-cell:/c%3A/Users/saman/OneDrive/%E6%A1%8C%E9%9D%A2/MDS_final/MDS_FinalProject/schedular.ipynb#W1sZmlsZQ%3D%3D?line=26'>27</a>\u001b[0m     schedule\u001b[39m.\u001b[39mrun_pending()\n\u001b[1;32m---> <a href='vscode-notebook-cell:/c%3A/Users/saman/OneDrive/%E6%A1%8C%E9%9D%A2/MDS_final/MDS_FinalProject/schedular.ipynb#W1sZmlsZQ%3D%3D?line=27'>28</a>\u001b[0m     time\u001b[39m.\u001b[39;49msleep(\u001b[39m1\u001b[39;49m)\n",
      "\u001b[1;31mKeyboardInterrupt\u001b[0m: "
     ]
    }
   ],
   "source": [
    "def download_data():\n",
    "    url = 'https://tcgbusfs.blob.core.windows.net/dotapp/youbike/v2/youbike_immediate.json'\n",
    "    save_path = \"./downloaded_data\"\n",
    "\n",
    "    try:\n",
    "        response = requests.get(url)\n",
    "        data = response.json()\n",
    "        df =  pd.DataFrame(data)\n",
    "        # 命名用\n",
    "        current_time = datetime.now().strftime(\"%Y-%m-%d-%H-%M\")\n",
    "\n",
    "        os.makedirs(save_path, exist_ok=True)\n",
    "\n",
    "        df.to_csv(f'{save_path}/data_{current_time}.csv', index=False, encoding='utf-8-sig')\n",
    "        print(f\"Data saved at {current_time}\")\n",
    "\n",
    "    except requests.RequestException as e:\n",
    "        print(f\"An error occurred: {e}\")\n",
    "    except ValueError as e:\n",
    "        print(f\"Error decoding JSON: {e}\")\n",
    "\n",
    "schedule.every(1).minutes.do(download_data)  # 每一分鐘執行一次\n",
    "\n",
    "while True:\n",
    "    schedule.run_pending()\n",
    "    time.sleep(1)"
   ]
  },
  {
   "cell_type": "code",
   "execution_count": null,
   "metadata": {},
   "outputs": [],
   "source": []
  }
 ],
 "metadata": {
  "kernelspec": {
   "display_name": "base",
   "language": "python",
   "name": "python3"
  },
  "language_info": {
   "codemirror_mode": {
    "name": "ipython",
    "version": 3
   },
   "file_extension": ".py",
   "mimetype": "text/x-python",
   "name": "python",
   "nbconvert_exporter": "python",
   "pygments_lexer": "ipython3",
   "version": "3.10.9"
  }
 },
 "nbformat": 4,
 "nbformat_minor": 2
}
